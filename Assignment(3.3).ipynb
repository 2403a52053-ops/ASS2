{
  "nbformat": 4,
  "nbformat_minor": 0,
  "metadata": {
    "colab": {
      "provenance": [],
      "authorship_tag": "ABX9TyNZbwp3X9hE9dhTeyAsl1En",
      "include_colab_link": true
    },
    "kernelspec": {
      "name": "python3",
      "display_name": "Python 3"
    },
    "language_info": {
      "name": "python"
    }
  },
  "cells": [
    {
      "cell_type": "markdown",
      "metadata": {
        "id": "view-in-github",
        "colab_type": "text"
      },
      "source": [
        "<a href=\"https://colab.research.google.com/github/2403a52053-ops/ASS2/blob/main/Assignment(3.3).ipynb\" target=\"_parent\"><img src=\"https://colab.research.google.com/assets/colab-badge.svg\" alt=\"Open In Colab\"/></a>"
      ]
    },
    {
      "cell_type": "code",
      "source": [
        "Task Description#1\n",
        "• Try 3 different prompts to generate a factorial function.\n",
        "Expected Output#1\n",
        "• Comparison of AI-generated code styles"
      ],
      "metadata": {
        "id": "fVVlLlJcJ3F0"
      },
      "execution_count": null,
      "outputs": []
    },
    {
      "cell_type": "code",
      "metadata": {
        "colab": {
          "base_uri": "https://localhost:8080/"
        },
        "id": "0c7abf49",
        "outputId": "58d975bc-1226-4856-9f38-22a1cacff7dd"
      },
      "source": [
        "# Code generated from Prompt 1: \"Write a Python function called `factorial` that takes a non-negative integer `n` as input and returns its factorial.\"\n",
        "def factorial_iterative(n):\n",
        "  \"\"\"Calculates the factorial of a non-negative integer iteratively.\"\"\"\n",
        "  if n < 0:\n",
        "    return \"Factorial is not defined for negative numbers\"\n",
        "  result = 1\n",
        "  for i in range(1, n + 1):\n",
        "    result *= i\n",
        "  return result\n",
        "\n",
        "print(f\"Factorial of 5 (iterative): {factorial_iterative(5)}\")"
      ],
      "execution_count": 5,
      "outputs": [
        {
          "output_type": "stream",
          "name": "stdout",
          "text": [
            "Factorial of 5 (iterative): 120\n"
          ]
        }
      ]
    },
    {
      "cell_type": "code",
      "metadata": {
        "colab": {
          "base_uri": "https://localhost:8080/"
        },
        "id": "a2239766",
        "outputId": "a92d8ea1-bcaa-4a02-836a-73089b94911a"
      },
      "source": [
        "# Code generated from Prompt 2: \"Create a recursive Python function to calculate the factorial of a given number.\"\n",
        "def factorial_recursive(n):\n",
        "  \"\"\"Calculates the factorial of a non-negative integer recursively.\"\"\"\n",
        "  if n < 0:\n",
        "    return \"Factorial is not defined for negative numbers\"\n",
        "  if n == 0:\n",
        "    return 1\n",
        "  else:\n",
        "    return n * factorial_recursive(n-1)\n",
        "\n",
        "print(f\"Factorial of 5 (recursive): {factorial_recursive(5)}\")"
      ],
      "execution_count": 6,
      "outputs": [
        {
          "output_type": "stream",
          "name": "stdout",
          "text": [
            "Factorial of 5 (recursive): 120\n"
          ]
        }
      ]
    },
    {
      "cell_type": "code",
      "metadata": {
        "colab": {
          "base_uri": "https://localhost:8080/"
        },
        "id": "f3ad4fd8",
        "outputId": "43ba73da-8526-4083-8bd0-99e9bdde8874"
      },
      "source": [
        "# Code generated from Prompt 3: \"Implement a factorial function in Python using the `math` module.\"\n",
        "import math\n",
        "\n",
        "def factorial_math(n):\n",
        "  \"\"\"Calculates the factorial of a non-negative integer using the math module.\"\"\"\n",
        "  if n < 0:\n",
        "    return \"Factorial is not defined for negative numbers\"\n",
        "  return math.factorial(n)\n",
        "\n",
        "print(f\"Factorial of 5 (math module): {factorial_math(5)}\")"
      ],
      "execution_count": 7,
      "outputs": [
        {
          "output_type": "stream",
          "name": "stdout",
          "text": [
            "Factorial of 5 (math module): 120\n"
          ]
        }
      ]
    },
    {
      "cell_type": "code",
      "source": [
        "Task Description#2\n",
        "• Provide a clear example input-output prompt to generate a sorting function."
      ],
      "metadata": {
        "id": "HL-SEpsxLB8R"
      },
      "execution_count": null,
      "outputs": []
    },
    {
      "cell_type": "code",
      "metadata": {
        "colab": {
          "base_uri": "https://localhost:8080/"
        },
        "id": "b8b0e941",
        "outputId": "e92d44cd-8a46-4be3-b0c8-4bd3783853cd"
      },
      "source": [
        "# Code generated from Prompt in Task Description #2\n",
        "def sort_list(input_list):\n",
        "  \"\"\"Sorts a list of numbers in ascending order.\"\"\"\n",
        "  return sorted(input_list)\n",
        "\n",
        "# Example usage based on the prompt\n",
        "input_list = [3, 1, 4, 1, 5, 9, 2, 6]\n",
        "output_list = sort_list(input_list)\n",
        "print(f\"Input: {input_list}\")\n",
        "print(f\"Output: {output_list}\")"
      ],
      "execution_count": 8,
      "outputs": [
        {
          "output_type": "stream",
          "name": "stdout",
          "text": [
            "Input: [3, 1, 4, 1, 5, 9, 2, 6]\n",
            "Output: [1, 1, 2, 3, 4, 5, 6, 9]\n"
          ]
        }
      ]
    },
    {
      "cell_type": "code",
      "source": [
        "Task Description#3\n",
        "• Start with the vague prompt “Generate python code to calculate power bill” and\n",
        "improve it step-by-step\n",
        "Expected Output#3\n",
        "• Enhanced AI output with clearer prompts"
      ],
      "metadata": {
        "id": "JDHCAu9PNPnx"
      },
      "execution_count": null,
      "outputs": []
    },
    {
      "cell_type": "code",
      "metadata": {
        "colab": {
          "base_uri": "https://localhost:8080/"
        },
        "id": "24d3aff9",
        "outputId": "6f75b37e-ddc3-4287-c9b5-3054cd689c93"
      },
      "source": [
        "# Code based on the vague prompt \"Generate python code to calculate power bill\"\n",
        "\n",
        "def calculate_power_bill():\n",
        "  # This is a placeholder function.\n",
        "  # To calculate a power bill, we need more information\n",
        "  # such as:\n",
        "  # - Electricity consumption (in kWh)\n",
        "  # - Rate per kWh\n",
        "  # - Any fixed charges or taxes\n",
        "  # - Tiered pricing information (if applicable)\n",
        "  # - Previous balance or payments\n",
        "\n",
        "  print(\"To calculate the power bill, we need more details.\")\n",
        "  print(\"Please provide information such as electricity consumption, rates, and any additional charges.\")\n",
        "  return None\n",
        "\n",
        "# Example usage (will not calculate a meaningful bill with this vague prompt)\n",
        "calculate_power_bill()"
      ],
      "execution_count": 9,
      "outputs": [
        {
          "output_type": "stream",
          "name": "stdout",
          "text": [
            "To calculate the power bill, we need more details.\n",
            "Please provide information such as electricity consumption, rates, and any additional charges.\n"
          ]
        }
      ]
    }
  ]
}