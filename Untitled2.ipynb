{
  "nbformat": 4,
  "nbformat_minor": 0,
  "metadata": {
    "colab": {
      "provenance": [],
      "authorship_tag": "ABX9TyO6AvEUeCQ3lKeYZkxu5x8W",
      "include_colab_link": true
    },
    "kernelspec": {
      "name": "python3",
      "display_name": "Python 3"
    },
    "language_info": {
      "name": "python"
    }
  },
  "cells": [
    {
      "cell_type": "markdown",
      "metadata": {
        "id": "view-in-github",
        "colab_type": "text"
      },
      "source": [
        "<a href=\"https://colab.research.google.com/github/2403a52053-ops/ASS2/blob/main/Untitled2.ipynb\" target=\"_parent\"><img src=\"https://colab.research.google.com/assets/colab-badge.svg\" alt=\"Open In Colab\"/></a>"
      ]
    },
    {
      "cell_type": "code",
      "execution_count": null,
      "metadata": {
        "id": "JKw8oF8OryP3"
      },
      "outputs": [],
      "source": [
        "Task Description#1\n",
        "● Zero-shot: Prompt AI to write a function that checks whether a given year is a leap\n",
        "year"
      ]
    },
    {
      "cell_type": "code",
      "metadata": {
        "colab": {
          "base_uri": "https://localhost:8080/"
        },
        "id": "626fd599",
        "outputId": "dc048d04-e8cb-4802-e0a2-f5b338d31e4e"
      },
      "source": [
        "def is_leap(year):\n",
        "  \"\"\"\n",
        "  Checks if a given year is a leap year.\n",
        "\n",
        "  Args:\n",
        "    year: An integer representing the year.\n",
        "\n",
        "  Returns:\n",
        "    True if the year is a leap year, False otherwise.\n",
        "  \"\"\"\n",
        "  if (year % 4 == 0 and year % 100 != 0) or (year % 400 == 0):\n",
        "    return True\n",
        "  else:\n",
        "    return False"
      ],
      "execution_count": 1,
      "outputs": [
        {
          "output_type": "stream",
          "name": "stdout",
          "text": [
            "Is 2000 a leap year? True\n",
            "Is 1900 a leap year? False\n",
            "Is 2024 a leap year? True\n",
            "Is 2023 a leap year? False\n"
          ]
        }
      ]
    },
    {
      "cell_type": "code",
      "source": [
        "Task Description#2\n",
        "● One-shot: Give one input-output example to guide AI in writing a function that\n",
        "converts centimeters to inches."
      ],
      "metadata": {
        "id": "jBiafr2-sSP0"
      },
      "execution_count": null,
      "outputs": []
    },
    {
      "cell_type": "markdown",
      "metadata": {
        "id": "490dc0e6"
      },
      "source": [
        "Task Description#2 (continued)\n",
        "\n",
        "**One-shot example:**\n",
        "Input: 10 centimeters\n",
        "Output: 3.937 inches"
      ]
    },
    {
      "cell_type": "code",
      "metadata": {
        "colab": {
          "base_uri": "https://localhost:8080/"
        },
        "id": "6e047047",
        "outputId": "97fa2003-a622-4b15-e612-40ea9f16aa7c"
      },
      "source": [
        "def cm_to_inches(cm):\n",
        "  \"\"\"\n",
        "  Converts centimeters to inches.\n",
        "\n",
        "  Args:\n",
        "    cm: A float representing the measurement in centimeters.\n",
        "\n",
        "  Returns:\n",
        "    A float representing the measurement in inches.\n",
        "  \"\"\"\n",
        "  inches = cm * 0.393701\n",
        "  return inches\n",
        "\n",
        "# Example usage based on the one-shot example:\n",
        "input_cm = 10\n",
        "output_inches = cm_to_inches(input_cm)\n",
        "print(f\"{input_cm} centimeters is equal to {output_inches:.3f} inches\")"
      ],
      "execution_count": 2,
      "outputs": [
        {
          "output_type": "stream",
          "name": "stdout",
          "text": [
            "10 centimeters is equal to 3.937 inches\n"
          ]
        }
      ]
    },
    {
      "cell_type": "code",
      "source": [
        "Task Description#3\n",
        "● Few-shot: Provide 2–3 examples to generate a function that formats full names as\n",
        "“Last, First”."
      ],
      "metadata": {
        "id": "ekWuEyDUtk0f"
      },
      "execution_count": null,
      "outputs": []
    },
    {
      "cell_type": "markdown",
      "metadata": {
        "id": "05cc7d9a"
      },
      "source": [
        "Task Description#3 (continued)\n",
        "\n",
        "**Few-shot examples:**\n",
        "Input: \"John Doe\"\n",
        "Output: \"Doe, John\"\n",
        "\n",
        "Input: \"Jane Smith\"\n",
        "Output: \"Smith, Jane\"\n",
        "\n",
        "Input: \"Peter Jones\"\n",
        "Output: \"Jones, Peter\""
      ]
    },
    {
      "cell_type": "code",
      "metadata": {
        "colab": {
          "base_uri": "https://localhost:8080/"
        },
        "id": "ee09f06e",
        "outputId": "f703d381-cb22-4586-ed3d-317917e90f0d"
      },
      "source": [
        "def format_name(full_name):\n",
        "  name_parts = full_name.split()\n",
        "  first_name = name_parts[0]\n",
        "  last_name = name_parts[-1]\n",
        "  return f\"{last_name}, {first_name}\"\n",
        "\n",
        "print(format_name(\"John Doe\"))\n",
        "print(format_name(\"Jane Smith\"))\n",
        "print(format_name(\"Peter Jones\"))"
      ],
      "execution_count": 3,
      "outputs": [
        {
          "output_type": "stream",
          "name": "stdout",
          "text": [
            "Doe, John\n",
            "Smith, Jane\n",
            "Jones, Peter\n"
          ]
        }
      ]
    },
    {
      "cell_type": "code",
      "source": [
        "Task Description#4\n",
        "● Compare zero-shot and few-shot prompts for writing a function that counts the\n",
        "number of vowels in a string."
      ],
      "metadata": {
        "id": "URrD_7RzuEi0"
      },
      "execution_count": null,
      "outputs": []
    },
    {
      "cell_type": "markdown",
      "metadata": {
        "id": "db27991b"
      },
      "source": [
        "## Zero-Shot Prompting\n",
        "\n",
        "Zero-shot prompting is a technique where the model is given a task without any examples. It relies on the model's pre-existing knowledge to complete the task."
      ]
    },
    {
      "cell_type": "code",
      "metadata": {
        "id": "304f499a"
      },
      "source": [
        "def count_vowels_zero_shot(text):\n",
        "    vowels = \"aeiouAEIOU\"\n",
        "    count = 0\n",
        "    for char in text:\n",
        "        if char in vowels:\n",
        "            count += 1\n",
        "    return count"
      ],
      "execution_count": 4,
      "outputs": []
    },
    {
      "cell_type": "markdown",
      "metadata": {
        "id": "e4f8157a"
      },
      "source": [
        "## Few-Shot Prompting\n",
        "\n",
        "Few-shot prompting provides the model with a few examples of the task before asking it to complete a new instance. This helps the model understand the desired output format and behavior."
      ]
    },
    {
      "cell_type": "code",
      "metadata": {
        "id": "788761d1"
      },
      "source": [
        "def count_vowels_few_shot(text):\n",
        "    vowels = \"aeiouAEIOU\"\n",
        "    count = 0\n",
        "    for char in text:\n",
        "        if char in vowels:\n",
        "            count += 1\n",
        "    return count\n",
        "\n",
        "# Examples for few-shot prompting\n",
        "# Input: \"hello\"\n",
        "# Output: 2\n",
        "\n",
        "# Input: \"world\"\n",
        "# Output: 1\n",
        "\n",
        "# Input: \"programming\"\n",
        "# Output: 4"
      ],
      "execution_count": 5,
      "outputs": []
    },
    {
      "cell_type": "code",
      "source": [
        "Task Description#5\n",
        "● Use few-shot prompting to generate a function that reads a .txt file and returns the\n",
        "number of lines"
      ],
      "metadata": {
        "id": "yIXW_wERuj6b"
      },
      "execution_count": null,
      "outputs": []
    },
    {
      "cell_type": "markdown",
      "metadata": {
        "id": "70e60d60"
      },
      "source": [
        "## Task Description#5 (continued)\n",
        "\n",
        "**Few-shot examples:**\n",
        "Input: A file named `example.txt` with the following content:"
      ]
    },
    {
      "cell_type": "code",
      "metadata": {
        "colab": {
          "base_uri": "https://localhost:8080/"
        },
        "id": "b2b0f140",
        "outputId": "532fedd4-390d-4359-b4cc-a572b35607c9"
      },
      "source": [
        "def count_lines_in_file(filepath):\n",
        "  with open(filepath, 'r') as f:\n",
        "    lines = f.readlines()\n",
        "  return len(lines)\n",
        "\n",
        "# Example usage (you'll need to create the example files first)\n",
        "# Create a dummy file for testing\n",
        "with open('example.txt', 'w') as f:\n",
        "    f.write('Line 1\\n')\n",
        "    f.write('Line 2\\n')\n",
        "    f.write('Line 3\\n')\n",
        "\n",
        "with open('empty.txt', 'w') as f:\n",
        "    pass\n",
        "\n",
        "print(f\"Number of lines in example.txt: {count_lines_in_file('example.txt')}\")\n",
        "print(f\"Number of lines in empty.txt: {count_lines_in_file('empty.txt')}\")"
      ],
      "execution_count": 6,
      "outputs": [
        {
          "output_type": "stream",
          "name": "stdout",
          "text": [
            "Number of lines in example.txt: 3\n",
            "Number of lines in empty.txt: 0\n"
          ]
        }
      ]
    }
  ]
}