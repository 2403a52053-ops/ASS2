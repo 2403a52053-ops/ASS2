{
  "nbformat": 4,
  "nbformat_minor": 0,
  "metadata": {
    "colab": {
      "provenance": [],
      "authorship_tag": "ABX9TyMWjtPRzVjPaVMnvwcR9IYO",
      "include_colab_link": true
    },
    "kernelspec": {
      "name": "python3",
      "display_name": "Python 3"
    },
    "language_info": {
      "name": "python"
    }
  },
  "cells": [
    {
      "cell_type": "markdown",
      "metadata": {
        "id": "view-in-github",
        "colab_type": "text"
      },
      "source": [
        "<a href=\"https://colab.research.google.com/github/2403a52053-ops/ASS2/blob/main/Untitled0.ipynb\" target=\"_parent\"><img src=\"https://colab.research.google.com/assets/colab-badge.svg\" alt=\"Open In Colab\"/></a>"
      ]
    },
    {
      "cell_type": "code",
      "execution_count": null,
      "metadata": {
        "id": "NIDu4-hH_lC2"
      },
      "outputs": [],
      "source": [
        "Task Description#1\n",
        "● Use Gemini in Colab to write a function that filters out all negative numbers from a\n",
        "given list"
      ]
    },
    {
      "cell_type": "code",
      "metadata": {
        "colab": {
          "base_uri": "https://localhost:8080/"
        },
        "id": "84eaf3e8",
        "outputId": "1edf4028-b2fa-44df-9b24-9f7af42d11a8"
      },
      "source": [
        "def filter_negative_numbers(input_list):\n",
        "  \"\"\"\n",
        "  Filters out all negative numbers from a given list.\n",
        "\n",
        "  Args:\n",
        "    input_list: A list of numbers.\n",
        "\n",
        "  Returns:\n",
        "    A new list containing only the non-negative numbers from the input list.\n",
        "  \"\"\"\n",
        "  return [number for number in input_list if number >= 0]\n",
        "\n",
        "# Example usage:\n",
        "my_list = [1, -2, 3, -4, 5, 0, -6]\n",
        "filtered_list = filter_negative_numbers(my_list)\n",
        "print(filtered_list)"
      ],
      "execution_count": 1,
      "outputs": [
        {
          "output_type": "stream",
          "name": "stdout",
          "text": [
            "[1, 3, 5, 0]\n"
          ]
        }
      ]
    },
    {
      "cell_type": "markdown",
      "source": [
        "Explaination : The selected code defines a Python function called filter_negative_numbers that takes a list of numbers as input. It uses a list comprehension to create a new list containing only the numbers from the input list that are greater than or equal to zero (i.e., non-negative numbers). Finally, it demonstrates how to use the function with an example list and prints the resulting filtered list."
      ],
      "metadata": {
        "id": "tDm85RCBCAvE"
      }
    },
    {
      "cell_type": "code",
      "source": [
        "Task Description#2\n",
        "● Ask Gemini to generate code that reads a text file and counts the frequency of each\n",
        "word. Then ask it to explain the code."
      ],
      "metadata": {
        "id": "3zqesDSrCNEK"
      },
      "execution_count": null,
      "outputs": []
    },
    {
      "cell_type": "code",
      "metadata": {
        "colab": {
          "base_uri": "https://localhost:8080/"
        },
        "id": "fd6ba93e",
        "outputId": "9c882798-8410-459b-ae62-7d0e2626ac0e"
      },
      "source": [
        "import re\n",
        "from collections import Counter\n",
        "\n",
        "def count_word_frequency(filepath):\n",
        "  \"\"\"\n",
        "  Reads a text file and counts the frequency of each word.\n",
        "\n",
        "  Args:\n",
        "    filepath: The path to the text file.\n",
        "\n",
        "  Returns:\n",
        "    A dictionary where keys are words and values are their frequencies.\n",
        "  \"\"\"\n",
        "  try:\n",
        "    with open(filepath, 'r', encoding='utf-8') as file:\n",
        "      text = file.read().lower()\n",
        "      # Remove punctuation and split into words\n",
        "      words = re.findall(r'\\b\\w+\\b', text)\n",
        "      word_counts = Counter(words)\n",
        "      return dict(word_counts)\n",
        "  except FileNotFoundError:\n",
        "    print(f\"Error: File not found at {filepath}\")\n",
        "    return {}\n",
        "  except Exception as e:\n",
        "    print(f\"An error occurred: {e}\")\n",
        "    return {}\n",
        "\n",
        "# Example usage:\n",
        "# Create a dummy text file for demonstration\n",
        "with open(\"sample.txt\", \"w\") as f:\n",
        "    f.write(\"This is a sample text file. This file is for testing, testing is good.\")\n",
        "\n",
        "word_frequencies = count_word_frequency(\"sample.txt\")\n",
        "print(word_frequencies)"
      ],
      "execution_count": 2,
      "outputs": [
        {
          "output_type": "stream",
          "name": "stdout",
          "text": [
            "{'this': 2, 'is': 3, 'a': 1, 'sample': 1, 'text': 1, 'file': 2, 'for': 1, 'testing': 2, 'good': 1}\n"
          ]
        }
      ]
    },
    {
      "cell_type": "markdown",
      "source": [
        "Explaination : This code defines a function count_word_frequency that takes a file path as input. It opens the file, reads its content, converts it to lowercase, and then uses regular expressions to find all words. It then uses the Counter class from the collections module to count the frequency of each word and returns the result as a dictionary. The example usage demonstrates how to create a dummy file and call the function."
      ],
      "metadata": {
        "id": "VIfvynHbCc2P"
      }
    },
    {
      "cell_type": "code",
      "source": [
        "Task Description#3\n",
        "● Use Cursor AI to generate a Python class called Book with attributes title, author, and\n",
        "a method summary() that prints the details"
      ],
      "metadata": {
        "id": "87yz8yxDCiNz"
      },
      "execution_count": null,
      "outputs": []
    },
    {
      "cell_type": "code",
      "metadata": {
        "colab": {
          "base_uri": "https://localhost:8080/"
        },
        "id": "93414ebc",
        "outputId": "e8a6a2da-bbe2-4a41-f1cf-ec55b7c2e8d1"
      },
      "source": [
        "class Book:\n",
        "  \"\"\"\n",
        "  A class to represent a book.\n",
        "\n",
        "  Attributes:\n",
        "    title (str): The title of the book.\n",
        "    author (str): The author of the book.\n",
        "  \"\"\"\n",
        "  def __init__(self, title, author):\n",
        "    \"\"\"\n",
        "    Initializes a new Book object.\n",
        "\n",
        "    Args:\n",
        "      title: The title of the book.\n",
        "      author: The author of the book.\n",
        "    \"\"\"\n",
        "    self.title = title\n",
        "    self.author = author\n",
        "\n",
        "  def summary(self):\n",
        "    \"\"\"\n",
        "    Prints the details of the book.\n",
        "    \"\"\"\n",
        "    print(f\"Title: {self.title}\")\n",
        "    print(f\"Author: {self.author}\")\n",
        "\n",
        "# Example usage:\n",
        "my_book = Book(\"The Hitchhiker's Guide to the Galaxy\", \"Douglas Adams\")\n",
        "my_book.summary()"
      ],
      "execution_count": 3,
      "outputs": [
        {
          "output_type": "stream",
          "name": "stdout",
          "text": [
            "Title: The Hitchhiker's Guide to the Galaxy\n",
            "Author: Douglas Adams\n"
          ]
        }
      ]
    },
    {
      "cell_type": "markdown",
      "source": [
        "Explaination : This code defines a Python class named Book.\n",
        "\n",
        "The __init__ method is the constructor. It's called when you create a new Book object and it initializes the title and author attributes of the book.\n",
        "The summary method is defined to print the title and author of the book in a formatted string.\n",
        "The example usage shows how to create an instance of the Book class and call the summary method."
      ],
      "metadata": {
        "id": "3VjeuKnoDDT2"
      }
    },
    {
      "cell_type": "code",
      "source": [
        "Task Description#4\n",
        "● Ask Gemini to write a program that checks whether a number is an Armstrong\n",
        "number, and then modify it using Cursor AI to improve performance or structure"
      ],
      "metadata": {
        "id": "n3p_DE9uDHPj"
      },
      "execution_count": null,
      "outputs": []
    },
    {
      "cell_type": "markdown",
      "metadata": {
        "id": "ec4901c1"
      },
      "source": [
        "# Task\n",
        "Write a program that checks whether a number is an Armstrong number, and then modify it using Cursor AI to improve performance or structure and explain the code"
      ]
    },
    {
      "cell_type": "markdown",
      "metadata": {
        "id": "cbe06d88"
      },
      "source": [
        "## Generate armstrong number check code\n",
        "\n",
        "### Subtask:\n",
        "Generate the initial Python code to check if a number is an Armstrong number.\n"
      ]
    },
    {
      "cell_type": "markdown",
      "metadata": {
        "id": "b3f4c52b"
      },
      "source": [
        "**Reasoning**:\n",
        "The subtask requires generating Python code to check if a number is an Armstrong number. This involves defining a function, calculating the sum of digits raised to the power of the number of digits, comparing it to the original number, and including an example usage. These steps can be combined into a single code block.\n",
        "\n"
      ]
    },
    {
      "cell_type": "code",
      "metadata": {
        "colab": {
          "base_uri": "https://localhost:8080/"
        },
        "id": "93d658ad",
        "outputId": "9332de19-aeaa-4b77-bb6e-8be09dcb84a6"
      },
      "source": [
        "def is_armstrong_number(number):\n",
        "  \"\"\"\n",
        "  Checks if a number is an Armstrong number.\n",
        "\n",
        "  An Armstrong number is a number that is the sum of its own digits each raised\n",
        "  to the power of the number of digits.\n",
        "\n",
        "  Args:\n",
        "    number: An integer.\n",
        "\n",
        "  Returns:\n",
        "    True if the number is an Armstrong number, False otherwise.\n",
        "  \"\"\"\n",
        "  # Convert the number to a string to easily count digits and access individual digits\n",
        "  num_str = str(number)\n",
        "  num_digits = len(num_str)\n",
        "  sum_of_powers = 0\n",
        "  for digit in num_str:\n",
        "    sum_of_powers += int(digit) ** num_digits\n",
        "  return sum_of_powers == number\n",
        "\n",
        "# Example usage:\n",
        "test_number1 = 153\n",
        "print(f\"{test_number1} is an Armstrong number: {is_armstrong_number(test_number1)}\")\n",
        "\n",
        "test_number2 = 123\n",
        "print(f\"{test_number2} is an Armstrong number: {is_armstrong_number(test_number2)}\")"
      ],
      "execution_count": 4,
      "outputs": [
        {
          "output_type": "stream",
          "name": "stdout",
          "text": [
            "153 is an Armstrong number: True\n",
            "123 is an Armstrong number: False\n"
          ]
        }
      ]
    },
    {
      "cell_type": "markdown",
      "metadata": {
        "id": "a391d1e4"
      },
      "source": [
        "## Explain the original code\n",
        "\n",
        "### Subtask:\n",
        "Provide an explanation of the generated code.\n"
      ]
    },
    {
      "cell_type": "markdown",
      "metadata": {
        "id": "77de3906"
      },
      "source": [
        "**Reasoning**:\n",
        "Provide a detailed explanation of the generated code as requested in the subtask instructions.\n",
        "\n"
      ]
    },
    {
      "cell_type": "code",
      "metadata": {
        "colab": {
          "base_uri": "https://localhost:8080/"
        },
        "id": "d4df05a8",
        "outputId": "4d6ffac4-7ee2-4dcf-920e-bd6bfea8ced1"
      },
      "source": [
        "print(\"Explanation of the `is_armstrong_number` function:\")\n",
        "print(\"\\nThe `is_armstrong_number` function takes an integer `number` as input and determines if it's an Armstrong number.\")\n",
        "print(\"First, the number is converted to a string using `str(number)`. This allows us to easily determine the number of digits using `len(num_str)` and access each digit individually by iterating through the string.\")\n",
        "print(\"\\nA variable `sum_of_powers` is initialized to 0. This variable will store the sum of the digits raised to the power of the number of digits.\")\n",
        "print(\"The code then iterates through each `digit` in the `num_str`.\")\n",
        "print(\"Inside the loop, each `digit` (which is a string character) is converted back to an integer using `int(digit)`.\")\n",
        "print(\"This integer digit is then raised to the power of `num_digits` (the total number of digits in the original number) using the exponentiation operator `**`.\")\n",
        "print(\"The result of this exponentiation is added to the `sum_of_powers`.\")\n",
        "print(\"After the loop finishes, the function compares the calculated `sum_of_powers` with the original `number`.\")\n",
        "print(\"If `sum_of_powers` is equal to `number`, the function returns `True`, indicating that the number is an Armstrong number.\")\n",
        "print(\"Otherwise, it returns `False`.\")\n",
        "print(\"\\nExample Usage:\")\n",
        "print(\"The example usage demonstrates calling the function with two test numbers: 153 and 123.\")\n",
        "print(\"For 153, the expected output is `True` because 1^3 + 5^3 + 3^3 = 1 + 125 + 27 = 153.\")\n",
        "print(\"For 123, the expected output is `False` because 1^3 + 2^3 + 3^3 = 1 + 8 + 27 = 36, which is not equal to 123.\")"
      ],
      "execution_count": 5,
      "outputs": [
        {
          "output_type": "stream",
          "name": "stdout",
          "text": [
            "Explanation of the `is_armstrong_number` function:\n",
            "\n",
            "The `is_armstrong_number` function takes an integer `number` as input and determines if it's an Armstrong number.\n",
            "First, the number is converted to a string using `str(number)`. This allows us to easily determine the number of digits using `len(num_str)` and access each digit individually by iterating through the string.\n",
            "\n",
            "A variable `sum_of_powers` is initialized to 0. This variable will store the sum of the digits raised to the power of the number of digits.\n",
            "The code then iterates through each `digit` in the `num_str`.\n",
            "Inside the loop, each `digit` (which is a string character) is converted back to an integer using `int(digit)`.\n",
            "This integer digit is then raised to the power of `num_digits` (the total number of digits in the original number) using the exponentiation operator `**`.\n",
            "The result of this exponentiation is added to the `sum_of_powers`.\n",
            "After the loop finishes, the function compares the calculated `sum_of_powers` with the original `number`.\n",
            "If `sum_of_powers` is equal to `number`, the function returns `True`, indicating that the number is an Armstrong number.\n",
            "Otherwise, it returns `False`.\n",
            "\n",
            "Example Usage:\n",
            "The example usage demonstrates calling the function with two test numbers: 153 and 123.\n",
            "For 153, the expected output is `True` because 1^3 + 5^3 + 3^3 = 1 + 125 + 27 = 153.\n",
            "For 123, the expected output is `False` because 1^3 + 2^3 + 3^3 = 1 + 8 + 27 = 36, which is not equal to 123.\n"
          ]
        }
      ]
    },
    {
      "cell_type": "markdown",
      "metadata": {
        "id": "cf0066fd"
      },
      "source": [
        "## Modify code for performance/structure\n",
        "\n",
        "### Subtask:\n",
        "Modify the code to potentially improve performance or structure based on the capabilities of an AI tool (simulating \"Cursor AI\").\n"
      ]
    },
    {
      "cell_type": "markdown",
      "metadata": {
        "id": "aa47e628"
      },
      "source": [
        "**Reasoning**:\n",
        "Modify the existing function to improve performance by avoiding string conversion and using mathematical operations to extract digits.\n",
        "\n"
      ]
    },
    {
      "cell_type": "code",
      "metadata": {
        "colab": {
          "base_uri": "https://localhost:8080/"
        },
        "id": "14c6f4c1",
        "outputId": "26cb5e03-6fff-447c-cd6f-3047c973fce5"
      },
      "source": [
        "def is_armstrong_number_optimized(number):\n",
        "  \"\"\"\n",
        "  Checks if a number is an Armstrong number using mathematical operations.\n",
        "\n",
        "  Args:\n",
        "    number: An integer.\n",
        "\n",
        "  Returns:\n",
        "    True if the number is an Armstrong number, False otherwise.\n",
        "  \"\"\"\n",
        "  if number < 0:\n",
        "    return False\n",
        "\n",
        "  original_number = number\n",
        "  num_digits = 0\n",
        "  temp_number = number\n",
        "  while temp_number > 0:\n",
        "    temp_number //= 10\n",
        "    num_digits += 1\n",
        "\n",
        "  sum_of_powers = 0\n",
        "  temp_number = original_number\n",
        "  while temp_number > 0:\n",
        "    digit = temp_number % 10\n",
        "    sum_of_powers += digit ** num_digits\n",
        "    temp_number //= 10\n",
        "\n",
        "  return sum_of_powers == original_number\n",
        "\n",
        "# Example usage with the optimized function:\n",
        "test_number1 = 153\n",
        "print(f\"{test_number1} is an Armstrong number: {is_armstrong_number_optimized(test_number1)}\")\n",
        "\n",
        "test_number2 = 123\n",
        "print(f\"{test_number2} is an Armstrong number: {is_armstrong_number_optimized(test_number2)}\")\n",
        "\n",
        "test_number3 = 9474\n",
        "print(f\"{test_number3} is an Armstrong number: {is_armstrong_number_optimized(test_number3)}\")\n",
        "\n",
        "test_number4 = 9475\n",
        "print(f\"{test_number4} is an Armstrong number: {is_armstrong_number_optimized(test_number4)}\")"
      ],
      "execution_count": 6,
      "outputs": [
        {
          "output_type": "stream",
          "name": "stdout",
          "text": [
            "153 is an Armstrong number: True\n",
            "123 is an Armstrong number: False\n",
            "9474 is an Armstrong number: True\n",
            "9475 is an Armstrong number: False\n"
          ]
        }
      ]
    },
    {
      "cell_type": "markdown",
      "metadata": {
        "id": "4895f129"
      },
      "source": [
        "## Explain the modified code\n",
        "\n",
        "### Subtask:\n",
        "Explain the changes made in the modified code.\n"
      ]
    },
    {
      "cell_type": "markdown",
      "metadata": {
        "id": "5511c380"
      },
      "source": [
        "**Reasoning**:\n",
        "Print the explanation of the optimized function, detailing how the number of digits and individual digits are extracted using mathematical operations, how the sum of powers is calculated, and the final comparison. Include the potential performance benefit and explain the new test cases.\n",
        "\n"
      ]
    },
    {
      "cell_type": "code",
      "metadata": {
        "colab": {
          "base_uri": "https://localhost:8080/"
        },
        "id": "157ba5a7",
        "outputId": "4d5f7100-efa3-4204-a6d6-3dd63b506078"
      },
      "source": [
        "print(\"Explanation of the `is_armstrong_number_optimized` function:\")\n",
        "print(\"\\nThe `is_armstrong_number_optimized` function is an optimized version of the Armstrong number check that avoids converting the number to a string, which can potentially improve performance, especially for very large numbers.\")\n",
        "print(\"\\n1. Handling Negative Numbers: It first checks if the input `number` is negative. Armstrong numbers are typically defined for positive integers, so it returns `False` for negative inputs.\")\n",
        "print(\"\\n2. Counting the Number of Digits: The code uses a `while` loop and integer division (`// 10`) to count the number of digits in the `original_number`. A temporary variable `temp_number` is used to avoid modifying the original number during this process. In each iteration, `temp_number` is divided by 10 (integer division), effectively removing the last digit, and `num_digits` is incremented until `temp_number` becomes 0.\")\n",
        "print(\"\\n3. Calculating the Sum of Powers of Digits: Another `while` loop is used to extract each digit and calculate the sum of each digit raised to the power of `num_digits`. Again, a temporary variable `temp_number` is used, initialized with the `original_number`.\")\n",
        "print(\"   - Inside the loop, the modulo operator (`% 10`) is used to get the last digit of `temp_number`.\")\n",
        "print(\"   - This `digit` is then raised to the power of `num_digits` using the exponentiation operator (`**`).\")\n",
        "print(\"   - The result is added to `sum_of_powers`.\")\n",
        "print(\"   - `temp_number` is then updated using integer division (`// 10`) to remove the last digit.\")\n",
        "print(\"   - This process continues until `temp_number` becomes 0.\")\n",
        "print(\"\\n4. Final Comparison: Finally, the calculated `sum_of_powers` is compared with the `original_number`. If they are equal, the function returns `True`, indicating that the number is an Armstrong number; otherwise, it returns `False`.\")\n",
        "print(\"\\nPerformance Improvement: This optimized approach avoids the overhead associated with string conversions and string manipulations, which can lead to better performance for larger integer inputs.\")\n",
        "print(\"\\nExample Usage:\")\n",
        "print(\"The example usage demonstrates the `is_armstrong_number_optimized` function with the original test cases (153 and 123) and two new test cases (9474 and 9475).\")\n",
        "print(\"For 9474:\")\n",
        "print(\"Number of digits is 4.\")\n",
        "print(\"9^4 + 4^4 + 7^4 + 4^4 = 6561 + 256 + 2401 + 256 = 9474.\")\n",
        "print(f\"Expected output for 9474: True (since 9474 is an Armstrong number).\")\n",
        "print(\"For 9475:\")\n",
        "print(\"Number of digits is 4.\")\n",
        "print(\"9^4 + 4^4 + 7^4 + 5^4 = 6561 + 256 + 2401 + 625 = 9843.\")\n",
        "print(f\"Expected output for 9475: False (since 9843 is not equal to 9475).\")"
      ],
      "execution_count": 7,
      "outputs": [
        {
          "output_type": "stream",
          "name": "stdout",
          "text": [
            "Explanation of the `is_armstrong_number_optimized` function:\n",
            "\n",
            "The `is_armstrong_number_optimized` function is an optimized version of the Armstrong number check that avoids converting the number to a string, which can potentially improve performance, especially for very large numbers.\n",
            "\n",
            "1. Handling Negative Numbers: It first checks if the input `number` is negative. Armstrong numbers are typically defined for positive integers, so it returns `False` for negative inputs.\n",
            "\n",
            "2. Counting the Number of Digits: The code uses a `while` loop and integer division (`// 10`) to count the number of digits in the `original_number`. A temporary variable `temp_number` is used to avoid modifying the original number during this process. In each iteration, `temp_number` is divided by 10 (integer division), effectively removing the last digit, and `num_digits` is incremented until `temp_number` becomes 0.\n",
            "\n",
            "3. Calculating the Sum of Powers of Digits: Another `while` loop is used to extract each digit and calculate the sum of each digit raised to the power of `num_digits`. Again, a temporary variable `temp_number` is used, initialized with the `original_number`.\n",
            "   - Inside the loop, the modulo operator (`% 10`) is used to get the last digit of `temp_number`.\n",
            "   - This `digit` is then raised to the power of `num_digits` using the exponentiation operator (`**`).\n",
            "   - The result is added to `sum_of_powers`.\n",
            "   - `temp_number` is then updated using integer division (`// 10`) to remove the last digit.\n",
            "   - This process continues until `temp_number` becomes 0.\n",
            "\n",
            "4. Final Comparison: Finally, the calculated `sum_of_powers` is compared with the `original_number`. If they are equal, the function returns `True`, indicating that the number is an Armstrong number; otherwise, it returns `False`.\n",
            "\n",
            "Performance Improvement: This optimized approach avoids the overhead associated with string conversions and string manipulations, which can lead to better performance for larger integer inputs.\n",
            "\n",
            "Example Usage:\n",
            "The example usage demonstrates the `is_armstrong_number_optimized` function with the original test cases (153 and 123) and two new test cases (9474 and 9475).\n",
            "For 9474:\n",
            "Number of digits is 4.\n",
            "9^4 + 4^4 + 7^4 + 4^4 = 6561 + 256 + 2401 + 256 = 9474.\n",
            "Expected output for 9474: True (since 9474 is an Armstrong number).\n",
            "For 9475:\n",
            "Number of digits is 4.\n",
            "9^4 + 4^4 + 7^4 + 5^4 = 6561 + 256 + 2401 + 625 = 9843.\n",
            "Expected output for 9475: False (since 9843 is not equal to 9475).\n"
          ]
        }
      ]
    },
    {
      "cell_type": "markdown",
      "metadata": {
        "id": "026dd52c"
      },
      "source": [
        "## Summary:\n",
        "\n",
        "### Data Analysis Key Findings\n",
        "\n",
        "*   The initial code successfully identifies 153 as an Armstrong number and 123 as not an Armstrong number.\n",
        "*   The optimized code, which avoids string conversion, also correctly identifies 153 and 9474 as Armstrong numbers and 123 and 9475 as not Armstrong numbers.\n",
        "*   The optimized function uses mathematical operations (integer division `//` and modulo `%`) to count digits and extract individual digits, which can offer performance benefits over string manipulation, especially for larger numbers.\n",
        "*   The optimized code includes a check for negative numbers, returning `False` as Armstrong numbers are typically defined for non-negative integers.\n",
        "\n",
        "### Insights or Next Steps\n",
        "\n",
        "*   The optimized code provides a more performant way to check for Armstrong numbers, particularly relevant when dealing with a large volume or very large numbers.\n",
        "*   Further performance comparisons between the string-based and mathematical approaches could be conducted for a range of input sizes to quantify the actual performance improvement.\n"
      ]
    },
    {
      "cell_type": "code",
      "source": [
        "Task Description#5\n",
        "● Use both Gemini and Cursor AI to generate code for sorting a list of dictionaries by a\n",
        "specific key (e.g., age)."
      ],
      "metadata": {
        "id": "IjiKg0eoDvmc"
      },
      "execution_count": null,
      "outputs": []
    },
    {
      "cell_type": "code",
      "metadata": {
        "colab": {
          "base_uri": "https://localhost:8080/"
        },
        "id": "bb2ac912",
        "outputId": "5244f2a6-70de-411d-e537-6a7fd4a6aa99"
      },
      "source": [
        "def sort_list_of_dicts(list_of_dicts, key_to_sort_by):\n",
        "  \"\"\"\n",
        "  Sorts a list of dictionaries by a specific key.\n",
        "\n",
        "  Args:\n",
        "    list_of_dicts: A list of dictionaries.\n",
        "    key_to_sort_by: The key in the dictionaries to sort by.\n",
        "\n",
        "  Returns:\n",
        "    A new list of dictionaries sorted by the specified key.\n",
        "  \"\"\"\n",
        "  return sorted(list_of_dicts, key=lambda x: x[key_to_sort_by])\n",
        "\n",
        "# Example usage:\n",
        "data = [\n",
        "    {'name': 'Alice', 'age': 30},\n",
        "    {'name': 'Bob', 'age': 25},\n",
        "    {'name': 'Charlie', 'age': 35},\n",
        "    {'name': 'David', 'age': 25}\n",
        "]\n",
        "\n",
        "sorted_data = sort_list_of_dicts(data, 'age')\n",
        "print(sorted_data)"
      ],
      "execution_count": 8,
      "outputs": [
        {
          "output_type": "stream",
          "name": "stdout",
          "text": [
            "[{'name': 'Bob', 'age': 25}, {'name': 'David', 'age': 25}, {'name': 'Alice', 'age': 30}, {'name': 'Charlie', 'age': 35}]\n"
          ]
        }
      ]
    },
    {
      "cell_type": "markdown",
      "source": [
        "Explaination : This code defines a function called sort_list_of_dicts that takes a list of dictionaries and a key to sort by as input. It uses the built-in sorted() function with a lambda function as the key argument. The lambda function lambda x: x[key_to_sort_by] tells sorted() to use the value associated with the specified key_to_sort_by in each dictionary (x) for comparison during sorting. The function returns a new sorted list of dictionaries. The example demonstrates sorting a list of dictionaries by the 'age' key."
      ],
      "metadata": {
        "id": "A1NFKh2qENVg"
      }
    }
  ]
}