{
  "nbformat": 4,
  "nbformat_minor": 0,
  "metadata": {
    "colab": {
      "provenance": [],
      "authorship_tag": "ABX9TyPtABIIrS1yF6GuOcJ+hKka",
      "include_colab_link": true
    },
    "kernelspec": {
      "name": "python3",
      "display_name": "Python 3"
    },
    "language_info": {
      "name": "python"
    }
  },
  "cells": [
    {
      "cell_type": "markdown",
      "metadata": {
        "id": "view-in-github",
        "colab_type": "text"
      },
      "source": [
        "<a href=\"https://colab.research.google.com/github/2403a52053-ops/ASS2/blob/main/ai_lab_9_3.ipynb\" target=\"_parent\"><img src=\"https://colab.research.google.com/assets/colab-badge.svg\" alt=\"Open In Colab\"/></a>"
      ]
    },
    {
      "cell_type": "markdown",
      "source": [],
      "metadata": {
        "id": "swuG8r3FuUNL"
      }
    },
    {
      "cell_type": "markdown",
      "source": [
        "TASK 1:\n",
        "•\tWrite python function to return sum of even and odd numbers in the given list.  \n",
        "•\tIncorporate manual docstring in code with Google Style\n",
        "•\tUse an AI-assisted tool (e.g., Copilot,  Cursor AI) to generate a docstring describing the function.\n",
        "•\tCompare the AI-generated docstring with your manually written one."
      ],
      "metadata": {
        "id": "ky5UG3-EuvyX"
      }
    },
    {
      "cell_type": "markdown",
      "source": [
        "PROMPT :"
      ],
      "metadata": {
        "id": "AQRLBaHMuhCo"
      }
    },
    {
      "cell_type": "markdown",
      "source": [
        " 1:\n",
        "•\tWrite python function to return sum of even and odd numbers in the given list.  \n",
        "•\tIncorporate manual docstring in code with Google Style\n",
        "•\tUse an AI-assisted tool (e.g., Copilot,  Cursor AI) to generate a docstring describing the function.\n",
        "•\tCompare the AI-generated docstring with your manually written one."
      ],
      "metadata": {
        "id": "MudU0Ktju3_H"
      }
    },
    {
      "cell_type": "code",
      "source": [
        "def sum_even_odd(numbers):\n",
        "    \"\"\"Calculates the sum of even and odd numbers in a list.\n",
        "\n",
        "    This function iterates through a given list of numbers and computes the\n",
        "    total sum of all even numbers and the total sum of all odd numbers.\n",
        "\n",
        "    Args:\n",
        "        numbers (list): A list of integers.\n",
        "\n",
        "    Returns:\n",
        "        tuple: A tuple containing two integers: (sum_of_even, sum_of_odd).\n",
        "\n",
        "    Example:\n",
        "        >>> sum_even_odd([1, 2, 3, 4, 5, 6])\n",
        "        (12, 9)\n",
        "    \"\"\"\n",
        "\n",
        "    # --- AI-generated docstring for comparison ---\n",
        "    #\n",
        "    # This function takes a list of numbers as input and returns the sum of\n",
        "    # the even numbers and the sum of the odd numbers found in the list.\n",
        "    # The function initializes two variables to store the sums and then\n",
        "    # iterates through the list, adding each number to the appropriate sum\n",
        "    # based on whether it is even or odd. Finally, it returns both sums.\n",
        "    #\n",
        "    # @param numbers A list of integers to process.\n",
        "    # @returns A tuple containing the sum of even numbers and the sum of odd numbers.\n",
        "    #\n",
        "    # --- End of AI-generated docstring ---\n",
        "\n",
        "    sum_even = 0\n",
        "    sum_odd = 0\n",
        "\n",
        "    for num in numbers:\n",
        "        # Check if the number is even\n",
        "        if num % 2 == 0:\n",
        "            sum_even += num\n",
        "        # If not even, it's odd\n",
        "        else:\n",
        "            sum_odd += num\n",
        "\n",
        "    return (sum_even, sum_odd)\n",
        "\n",
        "# Example usage\n",
        "my_list = [10, 25, 30, 41, 55, 6, 78]\n",
        "even_sum, odd_sum = sum_even_odd(my_list)\n",
        "\n",
        "print(f\"The given list is: {my_list}\")\n",
        "print(f\"Sum of even numbers: {even_sum}\")\n",
        "print(f\"Sum of odd numbers: {odd_sum}\")"
      ],
      "metadata": {
        "colab": {
          "base_uri": "https://localhost:8080/"
        },
        "id": "PBFSw2CAv8nX",
        "outputId": "8614bcaf-51eb-4705-8a0a-8182b76e6797"
      },
      "execution_count": null,
      "outputs": [
        {
          "output_type": "stream",
          "name": "stdout",
          "text": [
            "The given list is: [10, 25, 30, 41, 55, 6, 78]\n",
            "Sum of even numbers: 124\n",
            "Sum of odd numbers: 121\n"
          ]
        }
      ]
    },
    {
      "cell_type": "markdown",
      "source": [
        "EXPLANATION\n",
        "This Python code defines a function called sum_even_odd that takes a list of numbers as input. It initializes two variables, sum_even and sum_odd, to zero. Then, it iterates through each number in the input list. For each number, it checks if it's even using the modulo operator (%). If the number is even, it's added to sum_even; otherwise, it's added to sum_odd. Finally, the function returns a tuple containing the calculated sum_even and sum_odd.\n",
        "\n",
        "The code then provides an example of how to use the function with a sample list my_list. It calls the sum_even_odd function with my_list and unpacks the returned tuple into even_sum and odd_sum. Finally, it prints the original list and the calculated sums of even and odd numbers.\n",
        "\n",
        "The code also includes two docstrings: a manually written one in Google Style and an AI-generated one for comparison, as requested in the original task description.\n",
        "\n"
      ],
      "metadata": {
        "id": "BU6NHYLVwc7V"
      }
    },
    {
      "cell_type": "markdown",
      "source": [
        "TASK 2:\n",
        "•\tWrite python program for sru_student class with attributes like name, roll no., hostel_status and fee_update method and display_details method.\n",
        "•\tWrite comments manually for each line/code block\n",
        "•\tAsk an AI tool to add inline comments explaining each line/step.\n",
        "•\tCompare the AI-generated comments with your manually written one.\n",
        "\n"
      ],
      "metadata": {
        "id": "4W3iAIvqwmpf"
      }
    },
    {
      "cell_type": "markdown",
      "source": [
        "PROMPT ⁉"
      ],
      "metadata": {
        "id": "rs6mtuyKwvU9"
      }
    },
    {
      "cell_type": "markdown",
      "source": [
        "TASK 2:\n",
        "•\tWrite python program for sru_student class with attributes like name, roll no., hostel_status and fee_update method and display_details method.\n",
        "•\tWrite comments manually for each line/code block\n",
        "•\tAsk an AI tool to add inline comments explaining each line/step.\n",
        "•\tCompare the AI-generated comments with your manually written one.\n",
        "\n"
      ],
      "metadata": {
        "id": "urGC8af3wxaY"
      }
    },
    {
      "cell_type": "code",
      "metadata": {
        "colab": {
          "base_uri": "https://localhost:8080/"
        },
        "id": "e58f915d",
        "outputId": "207cc1f8-7ddf-46e4-8b8d-10d10f32a018"
      },
      "source": [
        "class sru_student:\n",
        "    # Constructor to initialize the student object\n",
        "    def __init__(self, name, roll_no, hostel_status):\n",
        "        # Initialize the name attribute\n",
        "        self.name = name\n",
        "        # Initialize the roll_no attribute\n",
        "        self.roll_no = roll_no\n",
        "        # Initialize the hostel_status attribute\n",
        "        self.hostel_status = hostel_status\n",
        "        # Initialize the fee_status attribute (assuming 'pending' by default)\n",
        "        self.fee_status = \"pending\"\n",
        "\n",
        "    # Method to update the fee status\n",
        "    def fee_update(self, status):\n",
        "        # Update the fee_status attribute with the provided status\n",
        "        self.fee_status = status\n",
        "        # Print a confirmation message\n",
        "        print(f\"Fee status for {self.name} (Roll No. {self.roll_no}) updated to: {self.fee_status}\")\n",
        "\n",
        "    # Method to display student details\n",
        "    def display_details(self):\n",
        "        # Print the student's name\n",
        "        print(f\"Name: {self.name}\")\n",
        "        # Print the student's roll number\n",
        "        print(f\"Roll No.: {self.roll_no}\")\n",
        "        # Print the student's hostel status\n",
        "        print(f\"Hostel Status: {self.hostel_status}\")\n",
        "        # Print the student's fee status\n",
        "        print(f\"Fee Status: {self.fee_status}\")\n",
        "\n",
        "# Example usage:\n",
        "# Create a student object\n",
        "student1 = sru_student(\"Alice\", \"SRU123\", \"Resident\")\n",
        "# Display the student's details\n",
        "student1.display_details()\n",
        "# Update the student's fee status\n",
        "student1.fee_update(\"Paid\")\n",
        "# Display the updated student details\n",
        "student1.display_details()"
      ],
      "execution_count": null,
      "outputs": [
        {
          "output_type": "stream",
          "name": "stdout",
          "text": [
            "Name: Alice\n",
            "Roll No.: SRU123\n",
            "Hostel Status: Resident\n",
            "Fee Status: pending\n",
            "Fee status for Alice (Roll No. SRU123) updated to: Paid\n",
            "Name: Alice\n",
            "Roll No.: SRU123\n",
            "Hostel Status: Resident\n",
            "Fee Status: Paid\n"
          ]
        }
      ]
    },
    {
      "cell_type": "markdown",
      "source": [
        "EXPLANATION :This code defines a Python class named sru_student.\n",
        "\n",
        ". __init__(self, name, roll_no, hostel_status): This is the constructor method.  It's called when you create a new sru_student object. It initializes the object's attributes: name, roll_no, hostel_status, and sets an initial fee_status to \"pending\".\n",
        ". fee_update(self, status): This method takes a status as input and updates the fee_status attribute of the student object. It also prints a confirmation message.\n",
        ". display_details(self): This method prints the details of the student, including their name, roll number, hostel status, and fee status.\n",
        "."
      ],
      "metadata": {
        "id": "7j9jS-8vx2PD"
      }
    },
    {
      "cell_type": "markdown",
      "source": [
        "TASK :3\n",
        "•\tWrite a Python script with 3–4 functions (e.g., calculator: add, subtract, multiply, divide).\n",
        "•\tIncorporate manual docstring in code with NumPy Style\n",
        "•\tUse AI assistance to generate a module-level docstring + individual function docstrings.\n",
        "•\tCompare the AI-generated docstring with your manually written one.\n"
      ],
      "metadata": {
        "id": "gUkleVB2yZnr"
      }
    },
    {
      "cell_type": "markdown",
      "source": [
        "PROMPT:\n"
      ],
      "metadata": {
        "id": "lxkPc7unyi4p"
      }
    },
    {
      "cell_type": "markdown",
      "source": [
        "\n",
        "•\tWrite a Python script with 3–4 functions (e.g., calculator: add, subtract, multiply, divide).\n",
        "•\tIncorporate manual docstring in code with NumPy Style\n",
        "•\tUse AI assistance to generate a module-level docstring + individual function docstrings.\n",
        "•\tCompare the AI-generated docstring with your manually written one.\n"
      ],
      "metadata": {
        "id": "CCzTHYn7ylai"
      }
    },
    {
      "cell_type": "code",
      "metadata": {
        "colab": {
          "base_uri": "https://localhost:8080/"
        },
        "id": "941df16a",
        "outputId": "96c40c4d-57ba-4d2d-d5c4-0b5808e0c776"
      },
      "source": [
        "# calculator.py\n",
        "\n",
        "\"\"\"\n",
        "A simple calculator module providing basic arithmetic operations.\n",
        "\n",
        "This module contains functions for addition, subtraction, multiplication,\n",
        "and division, each with NumPy style docstrings.\n",
        "\"\"\"\n",
        "\n",
        "def add(a, b):\n",
        "    \"\"\"\n",
        "    Adds two numbers.\n",
        "\n",
        "    Parameters\n",
        "    ----------\n",
        "    a : float or int\n",
        "        The first number.\n",
        "    b : float or int\n",
        "        The second number.\n",
        "\n",
        "    Returns\n",
        "    -------\n",
        "    float or int\n",
        "        The sum of `a` and `b`.\n",
        "    \"\"\"\n",
        "    return a + b\n",
        "\n",
        "def subtract(a, b):\n",
        "    \"\"\"\n",
        "    Subtracts the second number from the first.\n",
        "\n",
        "    Parameters\n",
        "    ----------\n",
        "    a : float or int\n",
        "        The first number.\n",
        "    b : float or int\n",
        "        The second number.\n",
        "\n",
        "    Returns\n",
        "    -------\n",
        "    float or int\n",
        "        The difference between `a` and `b`.\n",
        "    \"\"\"\n",
        "    return a - b\n",
        "\n",
        "def multiply(a, b):\n",
        "    \"\"\"\n",
        "    Multiplies two numbers.\n",
        "\n",
        "    Parameters\n",
        "    ----------\n",
        "    a : float or int\n",
        "        The first number.\n",
        "    b : float or int\n",
        "        The second number.\n",
        "\n",
        "    Returns\n",
        "    -------\n",
        "    float or int\n",
        "        The product of `a` and `b`.\n",
        "    \"\"\"\n",
        "    return a * b\n",
        "\n",
        "def divide(a, b):\n",
        "    \"\"\"\n",
        "    Divides the first number by the second.\n",
        "\n",
        "    Parameters\n",
        "    ----------\n",
        "    a : float or int\n",
        "        The dividend.\n",
        "    b : float or int\n",
        "        The divisor.\n",
        "\n",
        "    Returns\n",
        "    -------\n",
        "    float or int\n",
        "        The result of the division.\n",
        "\n",
        "    Raises\n",
        "    ------\n",
        "    ZeroDivisionError\n",
        "        If the divisor `b` is zero.\n",
        "    \"\"\"\n",
        "    if b == 0:\n",
        "        raise ZeroDivisionError(\"Division by zero is not allowed.\")\n",
        "    return a / b\n",
        "\n",
        "# Example usage:\n",
        "print(f\"Addition: 5 + 3 = {add(5, 3)}\")\n",
        "print(f\"Subtraction: 10 - 4 = {subtract(10, 4)}\")\n",
        "print(f\"Multiplication: 6 * 7 = {multiply(6, 7)}\")\n",
        "print(f\"Division: 20 / 5 = {divide(20, 5)}\")\n",
        "# print(f\"Division by zero: 10 / 0 = {divide(10, 0)}\") # Uncomment to test ZeroDivisionError"
      ],
      "execution_count": null,
      "outputs": [
        {
          "output_type": "stream",
          "name": "stdout",
          "text": [
            "Addition: 5 + 3 = 8\n",
            "Subtraction: 10 - 4 = 6\n",
            "Multiplication: 6 * 7 = 42\n",
            "Division: 20 / 5 = 4.0\n"
          ]
        }
      ]
    },
    {
      "cell_type": "markdown",
      "source": [
        "EXPLANATION:\n",
        " This code defines a Python module named calculator.py that provides basic arithmetic operations.\n",
        " .It includes a module-level docstring explaining the purpose of the module.\n",
        ".It defines four functions: add, subtract, multiply, and divide.\n",
        ".Each function has a manual docstring in NumPy style, detailing its parameters, return value, and any potential exceptions (like ZeroDivisionError for the divide function).\n",
        ".The code also includes example usage of these functions, demonstrating how to call them and print the results.\n"
      ],
      "metadata": {
        "id": "TEdA9r2EzvE1"
      }
    }
  ]
}